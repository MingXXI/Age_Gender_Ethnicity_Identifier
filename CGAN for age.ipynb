{
 "cells": [
  {
   "cell_type": "code",
   "execution_count": 1,
   "metadata": {},
   "outputs": [],
   "source": [
    "# supress warnings\n",
    "import warnings \n",
    "warnings.filterwarnings('ignore')"
   ]
  },
  {
   "cell_type": "code",
   "execution_count": 2,
   "metadata": {},
   "outputs": [],
   "source": [
    "import numpy as np\n",
    "import pandas as pd\n",
    "import matplotlib.pyplot as plt\n",
    "import seaborn as sns\n",
    "from sklearn.model_selection import train_test_split\n",
    "\n",
    "import tensorflow as tf\n",
    "#import plotly.express as px\n",
    "from tensorflow.keras import datasets, layers, models"
   ]
  },
  {
   "cell_type": "code",
   "execution_count": 3,
   "metadata": {},
   "outputs": [
    {
     "data": {
      "text/html": [
       "<div>\n",
       "<style scoped>\n",
       "    .dataframe tbody tr th:only-of-type {\n",
       "        vertical-align: middle;\n",
       "    }\n",
       "\n",
       "    .dataframe tbody tr th {\n",
       "        vertical-align: top;\n",
       "    }\n",
       "\n",
       "    .dataframe thead th {\n",
       "        text-align: right;\n",
       "    }\n",
       "</style>\n",
       "<table border=\"1\" class=\"dataframe\">\n",
       "  <thead>\n",
       "    <tr style=\"text-align: right;\">\n",
       "      <th></th>\n",
       "      <th>age</th>\n",
       "      <th>ethnicity</th>\n",
       "      <th>gender</th>\n",
       "    </tr>\n",
       "  </thead>\n",
       "  <tbody>\n",
       "    <tr>\n",
       "      <td>0</td>\n",
       "      <td>1</td>\n",
       "      <td>2</td>\n",
       "      <td>0</td>\n",
       "    </tr>\n",
       "    <tr>\n",
       "      <td>1</td>\n",
       "      <td>1</td>\n",
       "      <td>2</td>\n",
       "      <td>0</td>\n",
       "    </tr>\n",
       "    <tr>\n",
       "      <td>2</td>\n",
       "      <td>1</td>\n",
       "      <td>2</td>\n",
       "      <td>0</td>\n",
       "    </tr>\n",
       "    <tr>\n",
       "      <td>3</td>\n",
       "      <td>1</td>\n",
       "      <td>2</td>\n",
       "      <td>0</td>\n",
       "    </tr>\n",
       "    <tr>\n",
       "      <td>4</td>\n",
       "      <td>1</td>\n",
       "      <td>2</td>\n",
       "      <td>0</td>\n",
       "    </tr>\n",
       "    <tr>\n",
       "      <td>...</td>\n",
       "      <td>...</td>\n",
       "      <td>...</td>\n",
       "      <td>...</td>\n",
       "    </tr>\n",
       "    <tr>\n",
       "      <td>23700</td>\n",
       "      <td>99</td>\n",
       "      <td>0</td>\n",
       "      <td>1</td>\n",
       "    </tr>\n",
       "    <tr>\n",
       "      <td>23701</td>\n",
       "      <td>99</td>\n",
       "      <td>1</td>\n",
       "      <td>1</td>\n",
       "    </tr>\n",
       "    <tr>\n",
       "      <td>23702</td>\n",
       "      <td>99</td>\n",
       "      <td>2</td>\n",
       "      <td>1</td>\n",
       "    </tr>\n",
       "    <tr>\n",
       "      <td>23703</td>\n",
       "      <td>99</td>\n",
       "      <td>2</td>\n",
       "      <td>1</td>\n",
       "    </tr>\n",
       "    <tr>\n",
       "      <td>23704</td>\n",
       "      <td>99</td>\n",
       "      <td>0</td>\n",
       "      <td>1</td>\n",
       "    </tr>\n",
       "  </tbody>\n",
       "</table>\n",
       "<p>23705 rows × 3 columns</p>\n",
       "</div>"
      ],
      "text/plain": [
       "       age  ethnicity  gender\n",
       "0        1          2       0\n",
       "1        1          2       0\n",
       "2        1          2       0\n",
       "3        1          2       0\n",
       "4        1          2       0\n",
       "...    ...        ...     ...\n",
       "23700   99          0       1\n",
       "23701   99          1       1\n",
       "23702   99          2       1\n",
       "23703   99          2       1\n",
       "23704   99          0       1\n",
       "\n",
       "[23705 rows x 3 columns]"
      ]
     },
     "execution_count": 3,
     "metadata": {},
     "output_type": "execute_result"
    }
   ],
   "source": [
    "## Load Data\n",
    "data = pd.read_csv('age_gender.csv')\n",
    "data = data.drop('img_name', axis=1)\n",
    "\n",
    "## Strucure the image data as np 2d array\n",
    "images = np.array(data['pixels'])\n",
    "for i in range(len(images)):\n",
    "    images[i] = np.array(images[i].split(' '),dtype = int)\n",
    "images = np.array(images)\n",
    "images = np.stack(np.array(images),axis=0)\n",
    "images = np.reshape(images, (-1,48,48))\n",
    "#images = images/255\n",
    "data.drop('pixels',axis = 1)\n",
    "\n",
    "#data.gender=data['gender'].astype('object')\n",
    "#data.ethnicity=data['ethnicity'].astype('object')\n",
    "#data.age = data['age'].astype('object')"
   ]
  },
  {
   "cell_type": "code",
   "execution_count": 4,
   "metadata": {},
   "outputs": [],
   "source": [
    "from sklearn.utils import shuffle\n",
    "\n",
    "images_gender_shu, gender_shu = shuffle(images, np.array(data['gender']))"
   ]
  },
  {
   "cell_type": "code",
   "execution_count": 5,
   "metadata": {},
   "outputs": [
    {
     "name": "stdout",
     "output_type": "stream",
     "text": [
      "(23705, 48, 48)\n",
      "(23705,)\n"
     ]
    }
   ],
   "source": [
    "print(images_gender_shu.shape)\n",
    "print(gender_shu.shape)"
   ]
  },
  {
   "cell_type": "code",
   "execution_count": null,
   "metadata": {},
   "outputs": [],
   "source": []
  },
  {
   "cell_type": "code",
   "execution_count": 6,
   "metadata": {},
   "outputs": [
    {
     "data": {
      "text/plain": [
       "<matplotlib.image.AxesImage at 0x1d818f22e08>"
      ]
     },
     "execution_count": 6,
     "metadata": {},
     "output_type": "execute_result"
    },
    {
     "data": {
      "image/png": "[encoded data removed]",
      "text/plain": [
       "<Figure size 432x288 with 1 Axes>"
      ]
     },
     "metadata": {
      "needs_background": "light"
     },
     "output_type": "display_data"
    }
   ],
   "source": [
    "plt.imshow(images_gender_shu[1])"
   ]
  },
  {
   "cell_type": "code",
   "execution_count": 26,
   "metadata": {},
   "outputs": [
    {
     "data": {
      "text/plain": [
       "226"
      ]
     },
     "execution_count": 26,
     "metadata": {},
     "output_type": "execute_result"
    }
   ],
   "source": [
    "np.max(images_gender_shu[1])"
   ]
  },
  {
   "cell_type": "code",
   "execution_count": 10,
   "metadata": {},
   "outputs": [],
   "source": [
    "img_width, img_height =48,48\n",
    "img_channel = 1\n",
    "img_shape = (img_width, img_height, img_channel)\n",
    "num_classes = 2\n",
    "z_dim = 100"
   ]
  },
  {
   "cell_type": "markdown",
   "metadata": {},
   "source": [
    "## Build Generator"
   ]
  },
  {
   "cell_type": "code",
   "execution_count": 45,
   "metadata": {},
   "outputs": [
    {
     "name": "stdout",
     "output_type": "stream",
     "text": [
      "Model: \"model_15\"\n",
      "__________________________________________________________________________________________________\n",
      "Layer (type)                    Output Shape         Param #     Connected to                     \n",
      "==================================================================================================\n",
      "input_30 (InputLayer)           (None, 1)            0                                            \n",
      "__________________________________________________________________________________________________\n",
      "embedding_12 (Embedding)        (None, 1, 100)       200         input_30[0][0]                   \n",
      "__________________________________________________________________________________________________\n",
      "input_29 (InputLayer)           (None, 100)          0                                            \n",
      "__________________________________________________________________________________________________\n",
      "flatten_19 (Flatten)            (None, 100)          0           embedding_12[0][0]               \n",
      "__________________________________________________________________________________________________\n",
      "multiply_5 (Multiply)           (None, 100)          0           input_29[0][0]                   \n",
      "                                                                 flatten_19[0][0]                 \n",
      "__________________________________________________________________________________________________\n",
      "sequential_12 (Sequential)      (None, 48, 48, 1)    2084353     multiply_5[0][0]                 \n",
      "==================================================================================================\n",
      "Total params: 2,084,553\n",
      "Trainable params: 2,084,169\n",
      "Non-trainable params: 384\n",
      "__________________________________________________________________________________________________\n"
     ]
    }
   ],
   "source": [
    "from keras.layers import UpSampling2D, Reshape, Activation, Conv2D, BatchNormalization, LeakyReLU, Input, Flatten, multiply\n",
    "from keras.layers import Dense, Embedding\n",
    "from keras.models import Sequential, Model\n",
    "\n",
    "def build_generator():\n",
    "    model = Sequential()\n",
    "    model.add(Dense(128*12*12, activation = 'relu', input_shape = (z_dim, )))\n",
    "    model.add(Reshape((12,12,128)))\n",
    "    model.add(UpSampling2D())\n",
    "    model.add(Conv2D(128, kernel_size = 3, padding = 'same'))\n",
    "    model.add(BatchNormalization())\n",
    "    model.add(LeakyReLU(alpha = 0.02))\n",
    "    model.add(UpSampling2D())\n",
    "    model.add(Conv2D(64, kernel_size = 3, padding = 'same'))\n",
    "    model.add(BatchNormalization())\n",
    "    model.add(LeakyReLU(alpha = 0.02))\n",
    "    model.add(Conv2D(1, kernel_size = 3 , padding='same'))\n",
    "    #model.add(Activation('relu'))\n",
    "    \n",
    "    z = Input(shape= (z_dim,))\n",
    "    label = Input(shape=(1,), dtype = 'int32')\n",
    "    \n",
    "    label_embedding = Embedding(num_classes, z_dim, input_length = 1)(label)\n",
    "    label_embedding = Flatten()(label_embedding)\n",
    "    joined = multiply([z, label_embedding])\n",
    "    \n",
    "    img = model(joined)\n",
    "    return Model([z, label], img)\n",
    "\n",
    "generator = build_generator()\n",
    "generator.summary()"
   ]
  },
  {
   "cell_type": "code",
   "execution_count": 46,
   "metadata": {},
   "outputs": [
    {
     "name": "stdout",
     "output_type": "stream",
     "text": [
      "Model: \"model_16\"\n",
      "__________________________________________________________________________________________________\n",
      "Layer (type)                    Output Shape         Param #     Connected to                     \n",
      "==================================================================================================\n",
      "input_32 (InputLayer)           (None, 1)            0                                            \n",
      "__________________________________________________________________________________________________\n",
      "embedding_13 (Embedding)        (None, 1, 2304)      4608        input_32[0][0]                   \n",
      "__________________________________________________________________________________________________\n",
      "flatten_21 (Flatten)            (None, 2304)         0           embedding_13[0][0]               \n",
      "__________________________________________________________________________________________________\n",
      "input_31 (InputLayer)           (None, 48, 48, 1)    0                                            \n",
      "__________________________________________________________________________________________________\n",
      "reshape_13 (Reshape)            (None, 48, 48, 1)    0           flatten_21[0][0]                 \n",
      "__________________________________________________________________________________________________\n",
      "concatenate_8 (Concatenate)     (None, 48, 48, 2)    0           input_31[0][0]                   \n",
      "                                                                 reshape_13[0][0]                 \n",
      "__________________________________________________________________________________________________\n",
      "sequential_13 (Sequential)      (None, 1)            392225      concatenate_8[0][0]              \n",
      "==================================================================================================\n",
      "Total params: 396,833\n",
      "Trainable params: 395,937\n",
      "Non-trainable params: 896\n",
      "__________________________________________________________________________________________________\n"
     ]
    }
   ],
   "source": [
    "from keras.layers import Dropout, Concatenate\n",
    "import numpy as np\n",
    "\n",
    "def build_discriminator():\n",
    "    model = Sequential()\n",
    "    model.add(Conv2D(32, kernel_size = 3, strides = 2, input_shape = (48,48,2), padding = 'same'))\n",
    "    model.add(LeakyReLU(alpha = 0.02))\n",
    "    model.add(Dropout(0.25))\n",
    "    model.add(Conv2D(64, kernel_size = 3, strides = 2, input_shape = (48,48,2), padding = 'same'))\n",
    "    model.add(BatchNormalization())\n",
    "    model.add(LeakyReLU(alpha = 0.02))\n",
    "    model.add(Dropout(0.25))\n",
    "    model.add(Conv2D(128, kernel_size = 3, strides = 2, input_shape = (48,48,2), padding = 'same'))\n",
    "    model.add(BatchNormalization())\n",
    "    model.add(LeakyReLU(alpha = 0.02))\n",
    "    model.add(Dropout(0.25))\n",
    "    model.add(Conv2D(256, kernel_size = 3, strides = 2, input_shape = (48,48,2), padding = 'same'))\n",
    "    model.add(BatchNormalization())\n",
    "    model.add(LeakyReLU(alpha = 0.02))\n",
    "    model.add(Dropout(0.25))\n",
    "    model.add(Flatten())\n",
    "    model.add(Dense(1, activation = 'sigmoid'))\n",
    "    \n",
    "    img = Input(shape= (img_shape))\n",
    "    label = Input(shape= (1,), dtype = 'int32')\n",
    "    \n",
    "    label_embedding = Embedding(input_dim = num_classes, output_dim = np.prod(img_shape), input_length = 1)(label)\n",
    "    label_embedding = Flatten()(label_embedding)\n",
    "    label_embedding = Reshape(img_shape)(label_embedding)\n",
    "    \n",
    "    concat = Concatenate(axis = -1)([img, label_embedding])\n",
    "    prediction = model(concat)\n",
    "    return Model([img, label], prediction)\n",
    "\n",
    "discriminator = build_discriminator()\n",
    "discriminator.summary()"
   ]
  },
  {
   "cell_type": "markdown",
   "metadata": {},
   "source": [
    "## Build Discriminator"
   ]
  },
  {
   "cell_type": "code",
   "execution_count": 47,
   "metadata": {},
   "outputs": [
    {
     "name": "stdout",
     "output_type": "stream",
     "text": [
      "Model: \"model_17\"\n",
      "__________________________________________________________________________________________________\n",
      "Layer (type)                    Output Shape         Param #     Connected to                     \n",
      "==================================================================================================\n",
      "input_34 (InputLayer)           (None, 1)            0                                            \n",
      "__________________________________________________________________________________________________\n",
      "embedding_14 (Embedding)        (None, 1, 2304)      4608        input_34[0][0]                   \n",
      "__________________________________________________________________________________________________\n",
      "flatten_23 (Flatten)            (None, 2304)         0           embedding_14[0][0]               \n",
      "__________________________________________________________________________________________________\n",
      "input_33 (InputLayer)           (None, 48, 48, 1)    0                                            \n",
      "__________________________________________________________________________________________________\n",
      "reshape_14 (Reshape)            (None, 48, 48, 1)    0           flatten_23[0][0]                 \n",
      "__________________________________________________________________________________________________\n",
      "concatenate_9 (Concatenate)     (None, 48, 48, 2)    0           input_33[0][0]                   \n",
      "                                                                 reshape_14[0][0]                 \n",
      "__________________________________________________________________________________________________\n",
      "sequential_14 (Sequential)      (None, 1)            392225      concatenate_9[0][0]              \n",
      "==================================================================================================\n",
      "Total params: 396,833\n",
      "Trainable params: 395,937\n",
      "Non-trainable params: 896\n",
      "__________________________________________________________________________________________________\n"
     ]
    }
   ],
   "source": [
    "from keras.layers import Dropout, Concatenate\n",
    "import numpy as np\n",
    "\n",
    "def build_discriminator():\n",
    "    model = Sequential()\n",
    "    model.add(Conv2D(32, kernel_size = 3, strides = 2, input_shape = (48,48,2), padding = 'same'))\n",
    "    model.add(LeakyReLU(alpha = 0.02))\n",
    "    model.add(Dropout(0.25))\n",
    "    model.add(Conv2D(64, kernel_size = 3, strides = 2, input_shape = (48,48,2), padding = 'same'))\n",
    "    model.add(BatchNormalization())\n",
    "    model.add(LeakyReLU(alpha = 0.02))\n",
    "    model.add(Dropout(0.25))\n",
    "    model.add(Conv2D(128, kernel_size = 3, strides = 2, input_shape = (48,48,2), padding = 'same'))\n",
    "    model.add(BatchNormalization())\n",
    "    model.add(LeakyReLU(alpha = 0.02))\n",
    "    model.add(Dropout(0.25))\n",
    "    model.add(Conv2D(256, kernel_size = 3, strides = 2, input_shape = (48,48,2), padding = 'same'))\n",
    "    model.add(BatchNormalization())\n",
    "    model.add(LeakyReLU(alpha = 0.02))\n",
    "    model.add(Dropout(0.25))\n",
    "    model.add(Flatten())\n",
    "    model.add(Dense(1, activation = 'sigmoid'))\n",
    "    \n",
    "    img = Input(shape= (img_shape))\n",
    "    label = Input(shape= (1,), dtype = 'int32')\n",
    "    \n",
    "    label_embedding = Embedding(input_dim = num_classes, output_dim = np.prod(img_shape), input_length = 1)(label)\n",
    "    label_embedding = Flatten()(label_embedding)\n",
    "    label_embedding = Reshape(img_shape)(label_embedding)\n",
    "    \n",
    "    concat = Concatenate(axis = -1)([img, label_embedding])\n",
    "    prediction = model(concat)\n",
    "    return Model([img, label], prediction)\n",
    "\n",
    "discriminator = build_discriminator()\n",
    "discriminator.summary()"
   ]
  },
  {
   "cell_type": "markdown",
   "metadata": {},
   "source": [
    "## Compile and Join Model G/D"
   ]
  },
  {
   "cell_type": "code",
   "execution_count": 48,
   "metadata": {},
   "outputs": [],
   "source": [
    "from keras.optimizers import Adam\n",
    "\n",
    "discriminator.compile(loss = 'binary_crossentropy', optimizer = Adam(0.0002, 0.5), metrics = ['accuracy'])\n",
    "\n",
    "z = Input(shape=(z_dim,))\n",
    "label = Input(shape= (1,))\n",
    "img = generator([z,label])\n",
    "\n",
    "discriminator.trainable = False\n",
    "prediction = discriminator([img, label])\n",
    "\n",
    "cgan = Model([z, label], prediction)\n",
    "cgan.compile(loss= 'mean_squared_error', optimizer = Adam(0.0002,0.5))"
   ]
  },
  {
   "cell_type": "markdown",
   "metadata": {},
   "source": [
    "## Build a function for training G/D"
   ]
  },
  {
   "cell_type": "code",
   "execution_count": 49,
   "metadata": {},
   "outputs": [],
   "source": [
    "def train(epochs, batch_size, save_interval):\n",
    "    \n",
    "    X_train = images_gender_shu\n",
    "    y_train = gender_shu\n",
    "    X_train = X_train/127.5 - 1\n",
    "    X_train = np.expand_dims(X_train, axis=3)\n",
    "    \n",
    "    #(X_train,y_train),(X_test, y_test) = mnist.load_data()\n",
    "    #X_train = X_train/127.5 - 1\n",
    "    #X_train = np.expand_dims(X_train, axis=3)\n",
    "    \n",
    "    real = np.ones(shape= (batch_size, 1))\n",
    "    fake = np.zeros(shape = (batch_size,1))\n",
    "    \n",
    "    for epoch in range(epochs):\n",
    "        idx = np.random.randint(0, X_train.shape[0], batch_size)\n",
    "        img, labels = X_train[idx], y_train[idx]\n",
    "        \n",
    "        z = np.random.normal(0,1,size = (batch_size, z_dim))\n",
    "        gen_img = generator.predict([z,labels])\n",
    "        \n",
    "        d_loss_real = discriminator.train_on_batch([img, labels], real)\n",
    "        d_loss_fake = discriminator.train_on_batch([gen_img, labels], fake)\n",
    "        d_loss = 0.5 * np.add(d_loss_real, d_loss_fake)\n",
    "        \n",
    "        z = np.random.normal(0,1, size = (batch_size, z_dim))\n",
    "        labels = np.random.randint(0, num_classes, batch_size).reshape(-1,1)\n",
    "        \n",
    "        g_loss = cgan.train_on_batch([z,labels], real)\n",
    "        \n",
    "        if epoch % save_interval == 0:\n",
    "            print('{} [D_loss: {} , accuracy: {:.2f}] [G_loss: {}]'.format(epoch, d_loss[0], 100*d_loss[1], g_loss))\n",
    "            save_image(epoch)"
   ]
  },
  {
   "cell_type": "code",
   "execution_count": 50,
   "metadata": {},
   "outputs": [],
   "source": [
    "import matplotlib.pyplot as plt\n",
    "def save_image(epoch):\n",
    "    r, c = 2,5\n",
    "    z = np.random.normal(0,1,(r*c, z_dim))\n",
    "    labels = np.random.randint(0,2, r*c)\n",
    "    #labels = np.arange(0,1).reshape(-1,1)\n",
    "    gen_image = generator.predict([z,labels])\n",
    "    gen_image = 0.5 * gen_image + 0.5\n",
    "    \n",
    "    fig, axes = plt.subplots(r,c, figsize = (10,10))\n",
    "    count = 0\n",
    "    for i in range(r):\n",
    "        for j in range(c):\n",
    "            axes[i,j].imshow(gen_image[count,:,:,0],cmap = 'gray')\n",
    "            axes[i,j].axis('off')\n",
    "            axes[i,j].set_title(\"Gender: %d\" % labels[count])\n",
    "            count+=1\n",
    "    plt.savefig('images/Gender_04%d.jpg' % epoch)\n",
    "    plt.close()"
   ]
  },
  {
   "cell_type": "code",
   "execution_count": 51,
   "metadata": {
    "scrolled": true
   },
   "outputs": [
    {
     "name": "stdout",
     "output_type": "stream",
     "text": [
      "0 [D_loss: 0.8700032830238342 , accuracy: 50.00] [G_loss: 0.5723201036453247]\n",
      "500 [D_loss: 0.23829534649848938 , accuracy: 100.00] [G_loss: 0.09489163011312485]\n",
      "1000 [D_loss: 0.9415525794029236 , accuracy: 50.00] [G_loss: 0.23323573172092438]\n",
      "1500 [D_loss: 0.015927717089653015 , accuracy: 100.00] [G_loss: 0.5747755169868469]\n",
      "2000 [D_loss: 0.25787267088890076 , accuracy: 100.00] [G_loss: 0.013258527964353561]\n",
      "2500 [D_loss: 0.3112514615058899 , accuracy: 100.00] [G_loss: 0.034616462886333466]\n",
      "3000 [D_loss: 0.002238818211480975 , accuracy: 100.00] [G_loss: 0.002190849743783474]\n",
      "3500 [D_loss: 0.9452890753746033 , accuracy: 50.00] [G_loss: 0.5763493776321411]\n",
      "4000 [D_loss: 0.23021897673606873 , accuracy: 100.00] [G_loss: 0.16099080443382263]\n",
      "4500 [D_loss: 0.38145849108695984 , accuracy: 50.00] [G_loss: 0.6285558342933655]\n",
      "5000 [D_loss: 0.1070651188492775 , accuracy: 100.00] [G_loss: 0.006771221291273832]\n",
      "5500 [D_loss: 0.1759611815214157 , accuracy: 100.00] [G_loss: 0.8037551045417786]\n",
      "6000 [D_loss: 0.1463998556137085 , accuracy: 100.00] [G_loss: 0.4751589000225067]\n",
      "6500 [D_loss: 0.26473504304885864 , accuracy: 100.00] [G_loss: 0.0020427966956049204]\n",
      "7000 [D_loss: 0.0033224269282072783 , accuracy: 100.00] [G_loss: 0.00012361776316538453]\n",
      "7500 [D_loss: 0.07224426418542862 , accuracy: 100.00] [G_loss: 0.7347828149795532]\n",
      "8000 [D_loss: 1.5672986507415771 , accuracy: 0.00] [G_loss: 0.00526833813637495]\n",
      "8500 [D_loss: 0.5118733048439026 , accuracy: 50.00] [G_loss: 0.20061740279197693]\n",
      "9000 [D_loss: 0.5884304642677307 , accuracy: 50.00] [G_loss: 0.7540083527565002]\n",
      "9500 [D_loss: 0.09338581562042236 , accuracy: 100.00] [G_loss: 0.008727212436497211]\n",
      "10000 [D_loss: 1.2382785081863403 , accuracy: 50.00] [G_loss: 0.001759611419402063]\n",
      "10500 [D_loss: 0.42957234382629395 , accuracy: 50.00] [G_loss: 0.02348950318992138]\n",
      "11000 [D_loss: 0.01403807383030653 , accuracy: 100.00] [G_loss: 0.0007751562516205013]\n",
      "11500 [D_loss: 0.029136212542653084 , accuracy: 100.00] [G_loss: 0.6743269562721252]\n",
      "12000 [D_loss: 1.9773935079574585 , accuracy: 50.00] [G_loss: 0.947577178478241]\n",
      "12500 [D_loss: 0.053841881453990936 , accuracy: 100.00] [G_loss: 0.6430094242095947]\n",
      "13000 [D_loss: 0.026275785639882088 , accuracy: 100.00] [G_loss: 0.11235025525093079]\n",
      "13500 [D_loss: 0.0076745073311030865 , accuracy: 100.00] [G_loss: 0.2780471742153168]\n",
      "14000 [D_loss: 0.07593103498220444 , accuracy: 100.00] [G_loss: 0.03406780585646629]\n",
      "14500 [D_loss: 0.1784573197364807 , accuracy: 100.00] [G_loss: 0.6459255814552307]\n",
      "15000 [D_loss: 0.3557683825492859 , accuracy: 100.00] [G_loss: 0.5813428163528442]\n",
      "15500 [D_loss: 0.06200297176837921 , accuracy: 100.00] [G_loss: 0.026355277746915817]\n",
      "16000 [D_loss: 0.514485239982605 , accuracy: 50.00] [G_loss: 0.6909270286560059]\n",
      "16500 [D_loss: 0.05880516767501831 , accuracy: 100.00] [G_loss: 0.6172411441802979]\n",
      "17000 [D_loss: 0.1824268102645874 , accuracy: 100.00] [G_loss: 0.4058796763420105]\n",
      "17500 [D_loss: 0.13198767602443695 , accuracy: 100.00] [G_loss: 0.1685221791267395]\n",
      "18000 [D_loss: 1.474219560623169 , accuracy: 0.00] [G_loss: 0.05766468122601509]\n",
      "18500 [D_loss: 0.20332300662994385 , accuracy: 100.00] [G_loss: 0.4417053759098053]\n",
      "19000 [D_loss: 0.12355118244886398 , accuracy: 100.00] [G_loss: 0.9157268404960632]\n",
      "19500 [D_loss: 0.000843991874717176 , accuracy: 100.00] [G_loss: 0.1563872992992401]\n",
      "20000 [D_loss: 0.5234500169754028 , accuracy: 100.00] [G_loss: 0.007196237798780203]\n",
      "20500 [D_loss: 0.007778031751513481 , accuracy: 100.00] [G_loss: 6.444544123951346e-05]\n",
      "21000 [D_loss: 0.6997256875038147 , accuracy: 50.00] [G_loss: 0.22400858998298645]\n",
      "21500 [D_loss: 0.23986802995204926 , accuracy: 100.00] [G_loss: 0.2424064576625824]\n",
      "22000 [D_loss: 0.6557082533836365 , accuracy: 50.00] [G_loss: 0.920699417591095]\n",
      "22500 [D_loss: 0.1881500780582428 , accuracy: 100.00] [G_loss: 0.9152705073356628]\n",
      "23000 [D_loss: 0.04022989794611931 , accuracy: 100.00] [G_loss: 0.24515295028686523]\n",
      "23500 [D_loss: 0.13024762272834778 , accuracy: 100.00] [G_loss: 0.26623597741127014]\n",
      "24000 [D_loss: 0.08101219683885574 , accuracy: 100.00] [G_loss: 0.9140364527702332]\n",
      "24500 [D_loss: 0.0004967628628946841 , accuracy: 100.00] [G_loss: 0.9707310795783997]\n",
      "25000 [D_loss: 0.06184744834899902 , accuracy: 100.00] [G_loss: 0.9315326809883118]\n",
      "25500 [D_loss: 1.0061081647872925 , accuracy: 50.00] [G_loss: 0.21491560339927673]\n",
      "26000 [D_loss: 0.09933914244174957 , accuracy: 100.00] [G_loss: 0.5461068749427795]\n",
      "26500 [D_loss: 0.2535799741744995 , accuracy: 100.00] [G_loss: 0.008104963228106499]\n",
      "27000 [D_loss: 0.15127690136432648 , accuracy: 100.00] [G_loss: 0.08463882654905319]\n",
      "27500 [D_loss: 0.8554319143295288 , accuracy: 50.00] [G_loss: 0.7533658742904663]\n",
      "28000 [D_loss: 0.01206106599420309 , accuracy: 100.00] [G_loss: 0.004392857663333416]\n",
      "28500 [D_loss: 0.10974496603012085 , accuracy: 100.00] [G_loss: 0.010553864762187004]\n",
      "29000 [D_loss: 0.09723054617643356 , accuracy: 100.00] [G_loss: 0.2675982415676117]\n",
      "29500 [D_loss: 1.0929621458053589 , accuracy: 50.00] [G_loss: 0.8561817407608032]\n"
     ]
    }
   ],
   "source": [
    "# train network\n",
    "train(30000, 1, 500)"
   ]
  },
  {
   "cell_type": "code",
   "execution_count": null,
   "metadata": {},
   "outputs": [],
   "source": []
  }
 ],
 "metadata": {
  "kernelspec": {
   "display_name": "Python 3",
   "language": "python",
   "name": "python3"
  },
  "language_info": {
   "codemirror_mode": {
    "name": "ipython",
    "version": 3
   },
   "file_extension": ".py",
   "mimetype": "text/x-python",
   "name": "python",
   "nbconvert_exporter": "python",
   "pygments_lexer": "ipython3",
   "version": "3.8.5"
  }
 },
 "nbformat": 4,
 "nbformat_minor": 4
}
